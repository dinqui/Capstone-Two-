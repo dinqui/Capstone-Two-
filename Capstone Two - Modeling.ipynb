{
 "cells": [
  {
   "cell_type": "markdown",
   "metadata": {},
   "source": [
    "# Capstone 2 Modeling"
   ]
  },
  {
   "cell_type": "code",
   "execution_count": 1,
   "metadata": {},
   "outputs": [],
   "source": [
    "#load python packages\n",
    "import os\n",
    "import pandas as pd\n",
    "import datetime\n",
    "import seaborn as sns\n",
    "import matplotlib.pyplot as plt\n",
    "import numpy as np\n",
    "%matplotlib inline"
   ]
  },
  {
   "cell_type": "code",
   "execution_count": 2,
   "metadata": {},
   "outputs": [
    {
     "data": {
      "text/html": [
       "<div>\n",
       "<style scoped>\n",
       "    .dataframe tbody tr th:only-of-type {\n",
       "        vertical-align: middle;\n",
       "    }\n",
       "\n",
       "    .dataframe tbody tr th {\n",
       "        vertical-align: top;\n",
       "    }\n",
       "\n",
       "    .dataframe thead th {\n",
       "        text-align: right;\n",
       "    }\n",
       "</style>\n",
       "<table border=\"1\" class=\"dataframe\">\n",
       "  <thead>\n",
       "    <tr style=\"text-align: right;\">\n",
       "      <th></th>\n",
       "      <th>MEMBER_alt</th>\n",
       "      <th>revised</th>\n",
       "      <th>hasReassignedSchools</th>\n",
       "      <th>altRatio_99</th>\n",
       "      <th>altRatio</th>\n",
       "      <th>altRatio_growth</th>\n",
       "      <th>pupMONEY_reg</th>\n",
       "      <th>pupMONEY_alt</th>\n",
       "      <th>pdiff_pupMONEY</th>\n",
       "      <th>hasCounc_reg</th>\n",
       "      <th>...</th>\n",
       "      <th>RI</th>\n",
       "      <th>SD</th>\n",
       "      <th>TN</th>\n",
       "      <th>TX</th>\n",
       "      <th>UT</th>\n",
       "      <th>VA</th>\n",
       "      <th>WA</th>\n",
       "      <th>WI</th>\n",
       "      <th>WV</th>\n",
       "      <th>WY</th>\n",
       "    </tr>\n",
       "  </thead>\n",
       "  <tbody>\n",
       "    <tr>\n",
       "      <th>0</th>\n",
       "      <td>-0.097866</td>\n",
       "      <td>-0.072301</td>\n",
       "      <td>-0.539077</td>\n",
       "      <td>-0.374959</td>\n",
       "      <td>-0.318339</td>\n",
       "      <td>0.098151</td>\n",
       "      <td>-0.148202</td>\n",
       "      <td>3.072690</td>\n",
       "      <td>3.189225</td>\n",
       "      <td>0.502815</td>\n",
       "      <td>...</td>\n",
       "      <td>0</td>\n",
       "      <td>0</td>\n",
       "      <td>0</td>\n",
       "      <td>0</td>\n",
       "      <td>0</td>\n",
       "      <td>0</td>\n",
       "      <td>0</td>\n",
       "      <td>0</td>\n",
       "      <td>0</td>\n",
       "      <td>0</td>\n",
       "    </tr>\n",
       "    <tr>\n",
       "      <th>1</th>\n",
       "      <td>-0.057271</td>\n",
       "      <td>-0.072301</td>\n",
       "      <td>1.855023</td>\n",
       "      <td>-0.374959</td>\n",
       "      <td>-0.438938</td>\n",
       "      <td>-0.131308</td>\n",
       "      <td>-0.334664</td>\n",
       "      <td>-0.226827</td>\n",
       "      <td>-0.101269</td>\n",
       "      <td>-0.044831</td>\n",
       "      <td>...</td>\n",
       "      <td>0</td>\n",
       "      <td>0</td>\n",
       "      <td>0</td>\n",
       "      <td>0</td>\n",
       "      <td>0</td>\n",
       "      <td>0</td>\n",
       "      <td>0</td>\n",
       "      <td>0</td>\n",
       "      <td>0</td>\n",
       "      <td>0</td>\n",
       "    </tr>\n",
       "    <tr>\n",
       "      <th>2</th>\n",
       "      <td>-0.027265</td>\n",
       "      <td>-0.072301</td>\n",
       "      <td>-0.539077</td>\n",
       "      <td>-0.292595</td>\n",
       "      <td>-0.445189</td>\n",
       "      <td>-0.286872</td>\n",
       "      <td>-0.266687</td>\n",
       "      <td>-0.084244</td>\n",
       "      <td>0.037768</td>\n",
       "      <td>0.502815</td>\n",
       "      <td>...</td>\n",
       "      <td>0</td>\n",
       "      <td>0</td>\n",
       "      <td>0</td>\n",
       "      <td>0</td>\n",
       "      <td>0</td>\n",
       "      <td>0</td>\n",
       "      <td>0</td>\n",
       "      <td>0</td>\n",
       "      <td>0</td>\n",
       "      <td>0</td>\n",
       "    </tr>\n",
       "    <tr>\n",
       "      <th>3</th>\n",
       "      <td>0.525183</td>\n",
       "      <td>-0.072301</td>\n",
       "      <td>1.855023</td>\n",
       "      <td>-0.285879</td>\n",
       "      <td>-0.401530</td>\n",
       "      <td>-0.215518</td>\n",
       "      <td>-0.249242</td>\n",
       "      <td>-0.198305</td>\n",
       "      <td>-0.127062</td>\n",
       "      <td>-1.107908</td>\n",
       "      <td>...</td>\n",
       "      <td>0</td>\n",
       "      <td>0</td>\n",
       "      <td>0</td>\n",
       "      <td>0</td>\n",
       "      <td>0</td>\n",
       "      <td>0</td>\n",
       "      <td>0</td>\n",
       "      <td>0</td>\n",
       "      <td>0</td>\n",
       "      <td>0</td>\n",
       "    </tr>\n",
       "    <tr>\n",
       "      <th>4</th>\n",
       "      <td>-0.046681</td>\n",
       "      <td>-0.072301</td>\n",
       "      <td>-0.539077</td>\n",
       "      <td>-0.138681</td>\n",
       "      <td>-0.396269</td>\n",
       "      <td>-0.462270</td>\n",
       "      <td>-0.164999</td>\n",
       "      <td>-0.117499</td>\n",
       "      <td>-0.087721</td>\n",
       "      <td>0.502815</td>\n",
       "      <td>...</td>\n",
       "      <td>0</td>\n",
       "      <td>0</td>\n",
       "      <td>0</td>\n",
       "      <td>0</td>\n",
       "      <td>0</td>\n",
       "      <td>0</td>\n",
       "      <td>0</td>\n",
       "      <td>0</td>\n",
       "      <td>0</td>\n",
       "      <td>0</td>\n",
       "    </tr>\n",
       "  </tbody>\n",
       "</table>\n",
       "<p>5 rows × 67 columns</p>\n",
       "</div>"
      ],
      "text/plain": [
       "   MEMBER_alt   revised  hasReassignedSchools  altRatio_99  altRatio  \\\n",
       "0   -0.097866 -0.072301             -0.539077    -0.374959 -0.318339   \n",
       "1   -0.057271 -0.072301              1.855023    -0.374959 -0.438938   \n",
       "2   -0.027265 -0.072301             -0.539077    -0.292595 -0.445189   \n",
       "3    0.525183 -0.072301              1.855023    -0.285879 -0.401530   \n",
       "4   -0.046681 -0.072301             -0.539077    -0.138681 -0.396269   \n",
       "\n",
       "   altRatio_growth  pupMONEY_reg  pupMONEY_alt  pdiff_pupMONEY  hasCounc_reg  \\\n",
       "0         0.098151     -0.148202      3.072690        3.189225      0.502815   \n",
       "1        -0.131308     -0.334664     -0.226827       -0.101269     -0.044831   \n",
       "2        -0.286872     -0.266687     -0.084244        0.037768      0.502815   \n",
       "3        -0.215518     -0.249242     -0.198305       -0.127062     -1.107908   \n",
       "4        -0.462270     -0.164999     -0.117499       -0.087721      0.502815   \n",
       "\n",
       "   ...  RI  SD  TN  TX  UT  VA  WA  WI  WV  WY  \n",
       "0  ...   0   0   0   0   0   0   0   0   0   0  \n",
       "1  ...   0   0   0   0   0   0   0   0   0   0  \n",
       "2  ...   0   0   0   0   0   0   0   0   0   0  \n",
       "3  ...   0   0   0   0   0   0   0   0   0   0  \n",
       "4  ...   0   0   0   0   0   0   0   0   0   0  \n",
       "\n",
       "[5 rows x 67 columns]"
      ]
     },
     "execution_count": 2,
     "metadata": {},
     "output_type": "execute_result"
    }
   ],
   "source": [
    "df = pd.read_csv('df_new.csv')\n",
    "df.head()"
   ]
  },
  {
   "cell_type": "code",
   "execution_count": 3,
   "metadata": {},
   "outputs": [
    {
     "name": "stdout",
     "output_type": "stream",
     "text": [
      "<class 'pandas.core.frame.DataFrame'>\n",
      "RangeIndex: 370 entries, 0 to 369\n",
      "Data columns (total 67 columns):\n",
      " #   Column                    Non-Null Count  Dtype  \n",
      "---  ------                    --------------  -----  \n",
      " 0   MEMBER_alt                370 non-null    float64\n",
      " 1   revised                   370 non-null    float64\n",
      " 2   hasReassignedSchools      370 non-null    float64\n",
      " 3   altRatio_99               369 non-null    float64\n",
      " 4   altRatio                  370 non-null    float64\n",
      " 5   altRatio_growth           369 non-null    float64\n",
      " 6   pupMONEY_reg              370 non-null    float64\n",
      " 7   pupMONEY_alt              364 non-null    float64\n",
      " 8   pdiff_pupMONEY            364 non-null    float64\n",
      " 9   hasCounc_reg              370 non-null    float64\n",
      " 10  hasCounc_alt              364 non-null    float64\n",
      " 11  pdiff_hasCounc            358 non-null    float64\n",
      " 12  puptch_reg                332 non-null    float64\n",
      " 13  puptch_alt                330 non-null    float64\n",
      " 14  pdiff_puptch              330 non-null    float64\n",
      " 15  TEACH_FYSY_RATIO_reg      369 non-null    float64\n",
      " 16  TEACH_FYSY_RATIO_alt      362 non-null    float64\n",
      " 17  pdiff_TEACH_FYSY_RATIO    354 non-null    float64\n",
      " 18  TEACH_ABSENT_RATIO_reg    369 non-null    float64\n",
      " 19  TEACH_ABSENT_RATIO_alt    362 non-null    float64\n",
      " 20  pdiff_TEACH_ABSENT_RATIO  349 non-null    float64\n",
      " 21  gradRate_reg              370 non-null    float64\n",
      " 22  gradRate_alt              370 non-null    float64\n",
      " 23  ppdiff_gradRate           370 non-null    float64\n",
      " 24  ppdiff_gradRate_ind       370 non-null    int64  \n",
      " 25  AK                        370 non-null    int64  \n",
      " 26  AL                        370 non-null    int64  \n",
      " 27  AR                        370 non-null    int64  \n",
      " 28  AZ                        370 non-null    int64  \n",
      " 29  CA                        370 non-null    int64  \n",
      " 30  CO                        370 non-null    int64  \n",
      " 31  CT                        370 non-null    int64  \n",
      " 32  DC                        370 non-null    int64  \n",
      " 33  DE                        370 non-null    int64  \n",
      " 34  FL                        370 non-null    int64  \n",
      " 35  GA                        370 non-null    int64  \n",
      " 36  IA                        370 non-null    int64  \n",
      " 37  ID                        370 non-null    int64  \n",
      " 38  IL                        370 non-null    int64  \n",
      " 39  IN                        370 non-null    int64  \n",
      " 40  KS                        370 non-null    int64  \n",
      " 41  KY                        370 non-null    int64  \n",
      " 42  LA                        370 non-null    int64  \n",
      " 43  MA                        370 non-null    int64  \n",
      " 44  MD                        370 non-null    int64  \n",
      " 45  MI                        370 non-null    int64  \n",
      " 46  MN                        370 non-null    int64  \n",
      " 47  MO                        370 non-null    int64  \n",
      " 48  NC                        370 non-null    int64  \n",
      " 49  NJ                        370 non-null    int64  \n",
      " 50  NM                        370 non-null    int64  \n",
      " 51  NV                        370 non-null    int64  \n",
      " 52  NY                        370 non-null    int64  \n",
      " 53  OH                        370 non-null    int64  \n",
      " 54  OK                        370 non-null    int64  \n",
      " 55  OR                        370 non-null    int64  \n",
      " 56  PA                        370 non-null    int64  \n",
      " 57  RI                        370 non-null    int64  \n",
      " 58  SD                        370 non-null    int64  \n",
      " 59  TN                        370 non-null    int64  \n",
      " 60  TX                        370 non-null    int64  \n",
      " 61  UT                        370 non-null    int64  \n",
      " 62  VA                        370 non-null    int64  \n",
      " 63  WA                        370 non-null    int64  \n",
      " 64  WI                        370 non-null    int64  \n",
      " 65  WV                        370 non-null    int64  \n",
      " 66  WY                        370 non-null    int64  \n",
      "dtypes: float64(24), int64(43)\n",
      "memory usage: 193.8 KB\n"
     ]
    }
   ],
   "source": [
    "df.info()"
   ]
  },
  {
   "cell_type": "code",
   "execution_count": 4,
   "metadata": {},
   "outputs": [
    {
     "data": {
      "text/plain": [
       "71"
      ]
     },
     "execution_count": 4,
     "metadata": {},
     "output_type": "execute_result"
    }
   ],
   "source": [
    "# number of rows with missing data\n",
    "df.isnull().any(axis=1).sum()"
   ]
  },
  {
   "cell_type": "code",
   "execution_count": 5,
   "metadata": {},
   "outputs": [],
   "source": [
    "# fill missing values with median of that column \n",
    "df.altRatio_99.fillna(df.altRatio_99.median(), inplace=True)\n",
    "df.altRatio_growth.fillna(df.altRatio_growth.median(), inplace=True)\n",
    "df.pupMONEY_alt.fillna(df.pupMONEY_alt.median(), inplace=True)\n",
    "df.pdiff_pupMONEY.fillna(df.pdiff_pupMONEY.median(), inplace=True)\n",
    "df.hasCounc_alt.fillna(df.hasCounc_alt.median(), inplace=True)\n",
    "df.pdiff_hasCounc.fillna(df.pdiff_hasCounc.median(), inplace=True)\n",
    "df.puptch_reg.fillna(df.puptch_reg.median(), inplace=True)\n",
    "df.puptch_alt.fillna(df.puptch_alt.median(), inplace=True)\n",
    "df.pdiff_puptch.fillna(df.pdiff_puptch.median(), inplace=True)\n",
    "df.TEACH_FYSY_RATIO_reg.fillna(df.TEACH_FYSY_RATIO_reg.median(), inplace=True)\n",
    "df.TEACH_FYSY_RATIO_alt.fillna(df.TEACH_FYSY_RATIO_alt.median(), inplace=True)\n",
    "df.pdiff_TEACH_FYSY_RATIO.fillna(df.pdiff_TEACH_FYSY_RATIO.median(), inplace=True)\n",
    "df.TEACH_ABSENT_RATIO_reg.fillna(df.TEACH_ABSENT_RATIO_reg.median(), inplace=True)\n",
    "df.TEACH_ABSENT_RATIO_alt.fillna(df.TEACH_ABSENT_RATIO_alt.median(), inplace=True)\n",
    "df.pdiff_TEACH_ABSENT_RATIO.fillna(df.pdiff_TEACH_ABSENT_RATIO.median(), inplace=True)"
   ]
  },
  {
   "cell_type": "code",
   "execution_count": 6,
   "metadata": {},
   "outputs": [],
   "source": [
    "# Split into testing and training datasets\n",
    "from sklearn.model_selection import train_test_split\n",
    "X = df.drop(['ppdiff_gradRate', 'ppdiff_gradRate_ind'], axis=1)\n",
    "y = df['ppdiff_gradRate']\n",
    "X_train, X_test, y_train, y_test = train_test_split(X, y, test_size=0.3, random_state=629)"
   ]
  },
  {
   "cell_type": "markdown",
   "metadata": {},
   "source": [
    "## Fit models with a training dataset "
   ]
  },
  {
   "cell_type": "markdown",
   "metadata": {},
   "source": [
    "Hint: Try a number of different models: you will want to compare their outputs in the\n",
    "model evaluation stage. For example, if you’re writing a classification model, you should\n",
    "implement both an entropy model and a Gini impurity model. For hyperparameter tuning,\n",
    "think of methods like cross-validation . "
   ]
  },
  {
   "cell_type": "code",
   "execution_count": 7,
   "metadata": {},
   "outputs": [],
   "source": [
    "# Model 1 - Linear Regression \n",
    "from sklearn.linear_model import LinearRegression\n",
    "\n",
    "lm = LinearRegression().fit(X_train, y_train)\n",
    "\n",
    "y_tr_pred = lm.predict(X_train)\n",
    "y_te_pred = lm.predict(X_test)"
   ]
  },
  {
   "cell_type": "code",
   "execution_count": 16,
   "metadata": {},
   "outputs": [],
   "source": [
    "# Model 2 - Random Forest Regression\n",
    "from sklearn.ensemble import RandomForestRegressor\n",
    "\n",
    "rfm = RandomForestRegressor(max_depth=3, random_state = 1234).fit(X_train, y_train)\n",
    "\n",
    "y_rfm_tr_pred = rfm.predict(X_train)\n",
    "y_rfm_te_pred = rfm.predict(X_test)"
   ]
  },
  {
   "cell_type": "markdown",
   "metadata": {},
   "source": [
    "## Review model outcomes — Iterate over additional models as needed "
   ]
  },
  {
   "cell_type": "markdown",
   "metadata": {},
   "source": [
    "Hint: you may want to use standard model evaluation metrics such as accuracy, recall,\n",
    "precision, and F1. "
   ]
  },
  {
   "cell_type": "code",
   "execution_count": 22,
   "metadata": {},
   "outputs": [
    {
     "name": "stdout",
     "output_type": "stream",
     "text": [
      "Linear Model\n",
      "R Squared Score on train and test (1.0, 0.999999890887408)\n",
      "Mean Squared Error on train and test (3.8514136983504286e-30, 9.430902665242454e-08)\n"
     ]
    }
   ],
   "source": [
    "from sklearn.metrics import mean_squared_error, r2_score\n",
    "\n",
    "print(\"Linear Model\")\n",
    "# r^2 - train, test\n",
    "lm_r2 = r2_score(y_train, y_tr_pred), r2_score(y_test, y_te_pred)\n",
    "print(\"R Squared Score on train and test\", lm_r2)\n",
    "\n",
    "# MSE - train, test\n",
    "lm_mse = mean_squared_error(y_train, y_tr_pred), mean_squared_error(y_test, y_te_pred)\n",
    "print(\"Mean Squared Error on train and test\", lm_mse)"
   ]
  },
  {
   "cell_type": "code",
   "execution_count": 23,
   "metadata": {},
   "outputs": [
    {
     "name": "stdout",
     "output_type": "stream",
     "text": [
      "Random Forest Model - max depth 3\n",
      "R Squared Score on train and test (0.9547562428992058, 0.914450479407148)\n",
      "Mean Squared Error on train and test (0.04763553972286667, 0.07394281332143113)\n"
     ]
    }
   ],
   "source": [
    "print(\"Random Forest Model - max depth 3\")\n",
    "# r^2 - train, test\n",
    "rfm_r2 = r2_score(y_train, y_rfm_tr_pred), r2_score(y_test, y_rfm_te_pred)\n",
    "print(\"R Squared Score on train and test\", rfm_r2)\n",
    "\n",
    "# MSE - train, test\n",
    "rfm_mse = mean_squared_error(y_train, y_rfm_tr_pred), mean_squared_error(y_test, y_rfm_te_pred)\n",
    "print(\"Mean Squared Error on train and test\", rfm_mse)"
   ]
  },
  {
   "cell_type": "markdown",
   "metadata": {},
   "source": [
    "## Identify the final model that you think is the best model for this project "
   ]
  },
  {
   "cell_type": "markdown",
   "metadata": {},
   "source": [
    "Hint: the most powerful model isn’t always the best one to use. Other considerations\n",
    "include computational complexity, scalability, and maintenance costs. "
   ]
  },
  {
   "cell_type": "code",
   "execution_count": null,
   "metadata": {},
   "outputs": [],
   "source": []
  }
 ],
 "metadata": {
  "kernelspec": {
   "display_name": "Python 3",
   "language": "python",
   "name": "python3"
  },
  "language_info": {
   "codemirror_mode": {
    "name": "ipython",
    "version": 3
   },
   "file_extension": ".py",
   "mimetype": "text/x-python",
   "name": "python",
   "nbconvert_exporter": "python",
   "pygments_lexer": "ipython3",
   "version": "3.7.6"
  }
 },
 "nbformat": 4,
 "nbformat_minor": 4
}
